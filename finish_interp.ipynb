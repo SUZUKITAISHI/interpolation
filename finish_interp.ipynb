{
 "cells": [
  {
   "cell_type": "code",
   "execution_count": 3,
   "metadata": {
    "collapsed": false
   },
   "outputs": [
    {
     "data": {
      "text/plain": [
       "my_lin_interp (generic function with 1 method)"
      ]
     },
     "execution_count": 3,
     "metadata": {},
     "output_type": "execute_result"
    }
   ],
   "source": [
    "include(\"interpolation.jl\")"
   ]
  },
  {
   "cell_type": "code",
   "execution_count": 4,
   "metadata": {
    "collapsed": false
   },
   "outputs": [
    {
     "data": {
      "text/plain": [
       "1.5"
      ]
     },
     "execution_count": 4,
     "metadata": {},
     "output_type": "execute_result"
    }
   ],
   "source": [
    "grid = [1, 2]\n",
    "vals = [2, 0]\n",
    "g = my_lin_interp(grid, vals)\n",
    "\n",
    "g(1.25)"
   ]
  },
  {
   "cell_type": "code",
   "execution_count": 13,
   "metadata": {
    "collapsed": false
   },
   "outputs": [
    {
     "name": "stdout",
     "output_type": "stream",
     "text": [
      "[0,2,4,6,8,10,12]\n",
      "3\n",
      "2\n",
      "7\n",
      "0\n",
      "1\n"
     ]
    }
   ],
   "source": [
    "grid = [0, 2, 4, 6, 8, 10, 12]\n",
    "println(grid)\n",
    "\n",
    "println(searchsortedlast(grid, 5))\n",
    "println(searchsortedlast(grid, 3.5))\n",
    "println(searchsortedlast(grid, 14))\n",
    "println(searchsortedlast(grid, -3))\n",
    "println(searchsortedlast(grid, 1))"
   ]
  },
  {
   "cell_type": "code",
   "execution_count": 10,
   "metadata": {
    "collapsed": false
   },
   "outputs": [
    {
     "data": {
      "text/plain": [
       "find_x (generic function with 1 method)"
      ]
     },
     "execution_count": 10,
     "metadata": {},
     "output_type": "execute_result"
    }
   ],
   "source": [
    "function find_x(grid, x)\n",
    "    return searchsortedlast(grid, x)\n",
    "end"
   ]
  },
  {
   "cell_type": "code",
   "execution_count": 24,
   "metadata": {
    "collapsed": false
   },
   "outputs": [
    {
     "data": {
      "text/plain": [
       "h (generic function with 1 method)"
      ]
     },
     "execution_count": 24,
     "metadata": {},
     "output_type": "execute_result"
    }
   ],
   "source": [
    "function h(grid, vals, x)\n",
    "    i = searchsortedlast(grid, x)\n",
    "    \n",
    "    if i == 0 || i == length(grid)\n",
    "        return 0\n",
    "    end\n",
    "    \n",
    "    x_i = grid[i]\n",
    "    x_j = grid[i + 1]\n",
    "    y_i = vals[i]\n",
    "    y_j = vals[i + 1]\n",
    "        \n",
    "    y = y_i + (y_j - y_i) * ((x - x_i) / (x_j - x_i))\n",
    "    return y\n",
    "end"
   ]
  },
  {
   "cell_type": "code",
   "execution_count": 25,
   "metadata": {
    "collapsed": false
   },
   "outputs": [
    {
     "name": "stdout",
     "output_type": "stream",
     "text": [
      "4.5\n"
     ]
    }
   ],
   "source": [
    "grid = [0, 2, 4, 6, 8, 10]\n",
    "vals = [1, 4, 5, 8, 9, 11]\n",
    "println(h(grid, vals, 3))"
   ]
  },
  {
   "cell_type": "code",
   "execution_count": 26,
   "metadata": {
    "collapsed": false
   },
   "outputs": [
    {
     "data": {
      "text/plain": [
       "lin_interp (generic function with 1 method)"
      ]
     },
     "execution_count": 26,
     "metadata": {},
     "output_type": "execute_result"
    }
   ],
   "source": [
    "function lin_interp(grid, vals)\n",
    "    function func(x)\n",
    "        i = searchsortedlast(grid, x)\n",
    "        if i == 0 || i == length(grid)\n",
    "            return 0\n",
    "        end\n",
    "        x_i = grid[i]\n",
    "        x_j = grid[i + 1]\n",
    "        y_i = vals[i]\n",
    "        y_j = vals[i + 1]\n",
    "        \n",
    "        y = y_i + (y_j - y_i) * ((x - x_i) / (x_j - x_i))\n",
    "        return y\n",
    "    end\n",
    "    \n",
    "    return func\n",
    "end"
   ]
  },
  {
   "cell_type": "code",
   "execution_count": 28,
   "metadata": {
    "collapsed": false
   },
   "outputs": [
    {
     "name": "stdout",
     "output_type": "stream",
     "text": [
      "4.5\n"
     ]
    }
   ],
   "source": [
    "grid = [0, 2, 4, 6, 8, 10]\n",
    "vals = [1, 4, 5, 8, 9, 11]\n",
    "w = lin_interp(grid, vals)\n",
    "\n",
    "println(w(3))"
   ]
  },
  {
   "cell_type": "code",
   "execution_count": null,
   "metadata": {
    "collapsed": true
   },
   "outputs": [],
   "source": []
  }
 ],
 "metadata": {
  "kernelspec": {
   "display_name": "Julia 0.4.5",
   "language": "julia",
   "name": "julia-0.4"
  },
  "language_info": {
   "file_extension": ".jl",
   "mimetype": "application/julia",
   "name": "julia",
   "version": "0.4.5"
  }
 },
 "nbformat": 4,
 "nbformat_minor": 0
}
