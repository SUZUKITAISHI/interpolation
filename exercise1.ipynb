xがgridの範囲内にあると仮定して
{
 "cells": [
  {
   "cell_type": "code",
   "execution_count": 1,
   "metadata": {
    "collapsed": false
   },
   "outputs": [
    {
     "data": {
      "text/plain": [
       "my_lin_interp (generic function with 1 method)"
      ]
     },
     "execution_count": 1,
     "metadata": {},
     "output_type": "execute_result"
    }
   ],
   "source": [
    "function my_lin_interp(grid, vals)\n",
    "    function func(x)\n",
    "        index_1 = searchsortedfirst(grid, x)\n",
    "        index_0 = searchsortedlast(grid, x)\n",
    "        x_1 = grid[index_1]\n",
    "        x_0 = grid[index_0]\n",
    "        y_1 = vals[index_1]\n",
    "        y_0 = vals[index_0]\n",
    "        \n",
    "        y = y_0 + (y_1 - y_0) * ((x - x_0) / (x_1 - x_0))\n",
    "        return y\n",
    "    end\n",
    "    return func\n",
    "end"
   ]
  },
  {
   "cell_type": "code",
   "execution_count": 2,
   "metadata": {
    "collapsed": false
   },
   "outputs": [
    {
     "data": {
      "text/plain": [
       "1.5"
      ]
     },
     "execution_count": 2,
     "metadata": {},
     "output_type": "execute_result"
    }
   ],
   "source": [
    "grid = [1, 2]\n",
    "vals = [2, 0]\n",
    "f = my_lin_interp(grid, vals)\n",
    "\n",
    "f(1.25)"
   ]
  },
  {
   "cell_type": "code",
   "execution_count": null,
   "metadata": {
    "collapsed": true
   },
   "outputs": [],
   "source": []
  }
 ],
 "metadata": {
  "kernelspec": {
   "display_name": "Julia 0.4.5",
   "language": "julia",
   "name": "julia-0.4"
  },
  "language_info": {
   "file_extension": ".jl",
   "mimetype": "application/julia",
   "name": "julia",
   "version": "0.4.5"
  }
 },
 "nbformat": 4,
 "nbformat_minor": 0
}
