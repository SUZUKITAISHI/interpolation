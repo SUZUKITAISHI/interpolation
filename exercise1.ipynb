{
 "cells": [
  {
   "cell_type": "code",
   "execution_count": 1,
   "metadata": {
    "collapsed": false
   },
   "outputs": [
    {
     "data": {
      "text/plain": [
       "my_lin_interp (generic function with 1 method)"
      ]
     },
     "execution_count": 1,
     "metadata": {},
     "output_type": "execute_result"
    }
   ],
   "source": [
    "function my_lin_interp(grid, vals)\n",
    "    function func(x)\n",
    "        index_0 = searchsortedlast(grid, x)\n",
    "        index_1 = index_0 + 1\n",
    "        x_1 = grid[index_1]\n",
    "        x_0 = grid[index_0]\n",
    "        y_1 = vals[index_1]\n",
    "        y_0 = vals[index_0]\n",
    "        \n",
    "        y = y_0 + (y_1 - y_0) * ((x - x_0) / (x_1 - x_0))\n",
    "        return y\n",
    "    end\n",
    "    return func\n",
    "end"
   ]
  },
  {
   "cell_type": "code",
   "execution_count": 2,
   "metadata": {
    "collapsed": false
   },
   "outputs": [
    {
     "data": {
      "text/plain": [
       "1.5"
      ]
     },
     "execution_count": 2,
     "metadata": {},
     "output_type": "execute_result"
    }
   ],
   "source": [
    "grid = [1, 2]\n",
    "vals = [2, 0]\n",
    "f = my_lin_interp(grid, vals)\n",
    "\n",
    "f(1.25)"
   ]
  },
  {
   "cell_type": "code",
   "execution_count": 1,
   "metadata": {
    "collapsed": false
   },
   "outputs": [
    {
     "data": {
      "text/plain": [
       "lin_interp (generic function with 1 method)"
      ]
     },
     "execution_count": 1,
     "metadata": {},
     "output_type": "execute_result"
    }
   ],
   "source": [
    "function lin_interp(grid, vals)\n",
    "    function func(x::Real)\n",
    "        i = searchsortedlast(grid, x)\n",
    "        if i == 0 || i == length(grid)\n",
    "            return 0\n",
    "        end\n",
    "        x_i = grid[i]\n",
    "        x_j = grid[i + 1]\n",
    "        y_i = vals[i]\n",
    "        y_j = vals[i + 1]\n",
    "        \n",
    "        y = y_i + (y_j - y_i) * ((x - x_i) / (x_j - x_i))\n",
    "        return y\n",
    "    end\n",
    "    \n",
    "    function func{T<:Real}(x::AbstractVector{T})\n",
    "        n = length(x)\n",
    "        out = Array(Float64, n)\n",
    "        for t in 1:n\n",
    "            out[t] = func(x[t])\n",
    "        end\n",
    "        return out\n",
    "    end\n",
    "    \n",
    "    return func\n",
    "end"
   ]
  },
  {
   "cell_type": "code",
   "execution_count": 5,
   "metadata": {
    "collapsed": false
   },
   "outputs": [
    {
     "name": "stdout",
     "output_type": "stream",
     "text": [
      "[4.5,6.5]\n"
     ]
    }
   ],
   "source": [
    "grid = [0, 2, 4, 6, 8, 10]\n",
    "vals = [1, 4, 5, 8, 9, 11]\n",
    "w = lin_interp(grid, vals)\n",
    "\n",
    "println(w([3.0, 5.0]))"
   ]
  },
  {
   "cell_type": "code",
   "execution_count": null,
   "metadata": {
    "collapsed": true
   },
   "outputs": [],
   "source": []
  }
 ],
 "metadata": {
  "kernelspec": {
   "display_name": "Julia 0.4.5",
   "language": "julia",
   "name": "julia-0.4"
  },
  "language_info": {
   "file_extension": ".jl",
   "mimetype": "application/julia",
   "name": "julia",
   "version": "0.4.5"
  }
 },
 "nbformat": 4,
 "nbformat_minor": 0
}
