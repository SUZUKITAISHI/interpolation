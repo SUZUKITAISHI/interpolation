{
 "cells": [
  {
   "cell_type": "code",
   "execution_count": null,
   "metadata": {
    "collapsed": true
   },
   "outputs": [],
   "source": [
    "function my_lin_interp(grid, vals)\n",
    "    function func(x)\n",
    "        index_1 = searchsortedfirst(grid, x)\n",
    "        index_0 = searchsortedlast(grid, x)\n",
    "        x_1 = grid[index_1]\n",
    "        x_0 = grid[index_0]\n",
    "        y_1 = vals[index_1]\n",
    "        y_0 = vals[index_0]\n",
    "        \n",
    "        y = y_0 + (y_1 - y_0) * ((x - x_0) / (x_1 - x_0))\n",
    "        return y\n",
    "    end\n",
    "    return func\n",
    "end\n"
   ]
  }
 ],
 "metadata": {
  "kernelspec": {
   "display_name": "Julia 0.4.5",
   "language": "julia",
   "name": "julia-0.4"
  },
  "language_info": {
   "file_extension": ".jl",
   "mimetype": "application/julia",
   "name": "julia",
   "version": "0.4.5"
  }
 },
 "nbformat": 4,
 "nbformat_minor": 0
}
